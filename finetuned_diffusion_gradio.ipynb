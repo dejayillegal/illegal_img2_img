{
  "nbformat": 4,
  "nbformat_minor": 0,
  "metadata": {
    "colab": {
      "provenance": [],
      "name": "finetuned-diffusion-gradio.ipynb",
      "private_outputs": true,
      "machine_shape": "hm",
      "include_colab_link": true
    },
    "kernelspec": {
      "name": "python3",
      "display_name": "Python 3"
    },
    "language_info": {
      "name": "python"
    },
    "gpuClass": "premium",
    "accelerator": "GPU"
  },
  "cells": [
    {
      "cell_type": "markdown",
      "metadata": {
        "id": "view-in-github",
        "colab_type": "text"
      },
      "source": [
        "<a href=\"https://colab.research.google.com/github/dejayillegal/illegal_img2_img/blob/main/finetuned_diffusion_gradio.ipynb\" target=\"_parent\"><img src=\"https://colab.research.google.com/assets/colab-badge.svg\" alt=\"Open In Colab\"/></a>"
      ]
    },
    {
      "cell_type": "markdown",
      "source": [
        "**Finetuned Diffusion demo 🪄🖼️** \n",
        "\n",
        "With this app you can run multiple fine-tuned Stable Diffusion models, trained on different styles: [Arcane], [Archer], [Elden Ring], [Spider-Verse], [Modern Disney], [Classic Disney], [Waifu], [Pokémon], [Pony Diffusion], [Robo Diffusion], [Cyberpunk Anime], [Tron Legacy] + any other custom Diffusers 🧨 SD model hosted on HuggingFace 🤗."
      ],
      "metadata": {
        "id": "oBB6SkL2REFn"
      }
    },
    {
      "cell_type": "markdown",
      "source": [
        "### 1. Install dependencies"
      ],
      "metadata": {
        "id": "2o-2jPqITvtD"
      }
    },
    {
      "cell_type": "code",
      "execution_count": null,
      "metadata": {
        "id": "8WYSV-73rslm"
      },
      "outputs": [],
      "source": [
        "!git clone https://github.com/dejayillegal/illegal_img2_img.git\n",
        "%cd finetuned_diffusion/\n",
        "!pip install -r requirements.txt\n",
        "!pip install gradio\n",
        "\n",
        "!pip uninstall -y xformers\n",
        "!pip install -q https://github.com/camenduru/stable-diffusion-webui-colab/releases/download/0.0.15/xformers-0.0.15.dev0+1515f77.d20221130-cp38-cp38-linux_x86_64.whl"
      ]
    },
    {
      "cell_type": "markdown",
      "source": [
        "### 2. Run\n",
        "\n",
        "Expand this cell and run it. After it finishes loading, **open the generated gradio public link** (e.g. https://xxxx.gradio.app) in the output.\n",
        "\n",
        "When running in a colab, models need to be downloaded the first time you use them, so give it some time."
      ],
      "metadata": {
        "id": "g51-cBLlTsO4"
      }
    },
    {
      "cell_type": "code",
      "source": [
        "!python app.py"
      ],
      "metadata": {
        "id": "dMhWUqKdNzn3"
      },
      "execution_count": null,
      "outputs": []
    }
  ]
}